{
 "cells": [
  {
   "cell_type": "code",
   "execution_count": null,
   "id": "aad83ee0",
   "metadata": {},
   "outputs": [],
   "source": [
    "from pymilvus import MilvusClient, client, DataType\n",
    "\n",
    "# 不支持windows\n",
    "client = MilvusClient(\"../data/milvus_demo.db\")\n",
    "# client = MilvusClient(uri=\"http://dbconn.sealosgzg.site:45034\")"
   ]
  },
  {
   "cell_type": "code",
   "execution_count": 8,
   "id": "bac20821",
   "metadata": {},
   "outputs": [
    {
     "name": "stdout",
     "output_type": "stream",
     "text": [
      "{'state': <LoadState: Loaded>}\n"
     ]
    }
   ],
   "source": [
    "if client.has_collection(collection_name=\"demo_shcema_collection\"):\n",
    "    client.drop_collection(collection_name=\"demo_shcema_collection\")\n",
    "\n",
    "# 3.1. Create schema\n",
    "schema = MilvusClient.create_schema(\n",
    "    auto_id=False,\n",
    "    enable_dynamic_field=True,\n",
    ")\n",
    "\n",
    "# 3.2. Add fields to schema\n",
    "schema.add_field(field_name=\"id\", datatype=DataType.INT64, is_primary=True)\n",
    "schema.add_field(field_name=\"vector\", datatype=DataType.FLOAT_VECTOR, dim=768)\n",
    "schema.add_field(field_name=\"text\", datatype=DataType.VARCHAR, max_length=512)\n",
    "# schema.add_field(field_name=\"subject\", datatype=DataType.VARCHAR, max_length=512)\n",
    "\n",
    "index_params = client.prepare_index_params()\n",
    "\n",
    "# 3.4. Add indexes - 修复索引类型\n",
    "index_params.add_index(field_name=\"id\")  # 主键字段不需要指定索引类型\n",
    "\n",
    "index_params.add_index(\n",
    "    field_name=\"vector\", \n",
    "    index_type=\"IVF_FLAT\",  # 使用有效的索引类型\n",
    "    metric_type=\"COSINE\",\n",
    "    params={\"nlist\": 1024}  # IVF_FLAT 需要 nlist 参数\n",
    ")\n",
    "\n",
    "client.create_collection(\n",
    "    collection_name=\"demo_shcema_collection\", schema=schema, index_params=index_params\n",
    ")\n",
    "\n",
    "res = client.get_load_state(collection_name=\"demo_shcema_collection\")\n",
    "\n",
    "print(res)"
   ]
  },
  {
   "cell_type": "code",
   "execution_count": 13,
   "id": "cd1d4155",
   "metadata": {},
   "outputs": [
    {
     "name": "stdout",
     "output_type": "stream",
     "text": [
      "Dim: (768,)\n",
      "Data has 5 entities, each with fields:  dict_keys(['id', 'vector', 'text', 'subject'])\n",
      "Vector dim: 768\n"
     ]
    }
   ],
   "source": [
    "# import os\n",
    "# os.environ['HF_ENDPOINT'] = 'https://hf-mirror.com'\n",
    "\n",
    "docs = [\n",
    "    \"Artificial intelligence was founded as an academic discipline in 1956.\",\n",
    "    \"Alan Turing was the first person to conduct substantial research in AI.\",\n",
    "    \"Born in Maida Vale, London, Turing was raised in southern England.\",\n",
    "    \"你好\",\n",
    "    \"新增的测试数据\",\n",
    "]\n",
    "\n",
    "# 设置 Hugging Face 镜像\n",
    "# export HF_ENDPOINT=https://hf-mirror.com\n",
    "# from pymilvus import model\n",
    "# embedding_fn = model.DefaultEmbeddingFunction()\n",
    "# vectors = embedding_fn.encode_documents(docs)\n",
    "\n",
    "# pip install sentence-transformers\n",
    "# from sentence_transformers import SentenceTransformer\n",
    "# model = SentenceTransformer('all-MiniLM-L6-v2')  # 这个模型比较小\n",
    "# vectors = model.encode(docs)\n",
    "\n",
    "import numpy as np\n",
    "\n",
    "np.random.seed(42)  # 保证可重复\n",
    "vectors = [np.random.rand(768).astype(np.float32) for _ in docs]\n",
    "\n",
    "print(\"Dim:\", vectors[0].shape)  # Dim: 768 (768,)\n",
    "\n",
    "data = [\n",
    "    {\"id\": i, \"vector\": vectors[i], \"text\": docs[i], \"subject\": \"a\"}\n",
    "    for i in range(len(vectors))\n",
    "]\n",
    "\n",
    "print(\"Data has\", len(data), \"entities, each with fields: \", data[0].keys())\n",
    "print(\"Vector dim:\", len(data[0][\"vector\"]))"
   ]
  },
  {
   "cell_type": "code",
   "execution_count": 14,
   "id": "f266e420",
   "metadata": {},
   "outputs": [
    {
     "name": "stdout",
     "output_type": "stream",
     "text": [
      "{'insert_count': 5, 'ids': [0, 1, 2, 3, 4]}\n"
     ]
    }
   ],
   "source": [
    "res = client.insert(collection_name=\"demo_shcema_collection\", data=data)\n",
    "\n",
    "print(res)"
   ]
  },
  {
   "cell_type": "code",
   "execution_count": 16,
   "id": "4fc4d4fc",
   "metadata": {},
   "outputs": [
    {
     "ename": "NameError",
     "evalue": "name 'embedding_fn' is not defined",
     "output_type": "error",
     "traceback": [
      "\u001b[31m---------------------------------------------------------------------------\u001b[39m",
      "\u001b[31mNameError\u001b[39m                                 Traceback (most recent call last)",
      "\u001b[36mCell\u001b[39m\u001b[36m \u001b[39m\u001b[32mIn[16]\u001b[39m\u001b[32m, line 1\u001b[39m\n\u001b[32m----> \u001b[39m\u001b[32m1\u001b[39m query_vectors = \u001b[43membedding_fn\u001b[49m.encode_queries([\u001b[33m\"\u001b[39m\u001b[33mWho is Alan Turing?\u001b[39m\u001b[33m\"\u001b[39m])\n\u001b[32m      3\u001b[39m res = client.search(\n\u001b[32m      4\u001b[39m     collection_name=\u001b[33m\"\u001b[39m\u001b[33mdemo_shcema_collection\u001b[39m\u001b[33m\"\u001b[39m,  \u001b[38;5;66;03m# target collection\u001b[39;00m\n\u001b[32m      5\u001b[39m     data=query_vectors,  \u001b[38;5;66;03m# query vectors\u001b[39;00m\n\u001b[32m      6\u001b[39m     limit=\u001b[32m2\u001b[39m,  \u001b[38;5;66;03m# number of returned entities\u001b[39;00m\n\u001b[32m      7\u001b[39m     output_fields=[\u001b[33m\"\u001b[39m\u001b[33mtext\u001b[39m\u001b[33m\"\u001b[39m, \u001b[33m\"\u001b[39m\u001b[33msubject\u001b[39m\u001b[33m\"\u001b[39m],  \u001b[38;5;66;03m# specifies fields to be returned\u001b[39;00m\n\u001b[32m      8\u001b[39m )\n\u001b[32m     10\u001b[39m \u001b[38;5;28mprint\u001b[39m(res)\n",
      "\u001b[31mNameError\u001b[39m: name 'embedding_fn' is not defined"
     ]
    }
   ],
   "source": [
    "query_vectors = embedding_fn.encode_queries([\"Who is Alan Turing?\"])\n",
    "\n",
    "res = client.search(\n",
    "    collection_name=\"demo_shcema_collection\",  # target collection\n",
    "    data=query_vectors,  # query vectors\n",
    "    limit=2,  # number of returned entities\n",
    "    output_fields=[\"text\", \"subject\"],  # specifies fields to be returned\n",
    ")\n",
    "\n",
    "print(res)"
   ]
  },
  {
   "cell_type": "code",
   "execution_count": 6,
   "id": "7d9bf3de",
   "metadata": {},
   "outputs": [
    {
     "name": "stdout",
     "output_type": "stream",
     "text": [
      "data: [[{'id': 5, 'distance': 0.2703055143356323, 'entity': {'text': 'Computational synthesis with AI algorithms predicts molecular properties.', 'subject': 'biology'}}, {'id': 4, 'distance': 0.1642589271068573, 'entity': {'text': 'Machine learning has been used for drug design.', 'subject': 'biology'}}]]\n"
     ]
    }
   ],
   "source": [
    "docs = [\n",
    "    \"Machine learning has been used for drug design.\",\n",
    "    \"Computational synthesis with AI algorithms predicts molecular properties.\",\n",
    "    \"DDR1 is involved in cancers and fibrosis.\",\n",
    "]\n",
    "vectors = embedding_fn.encode_documents(docs)\n",
    "data = [\n",
    "    {\"id\": 4 + i, \"vector\": vectors[i], \"text\": docs[i], \"subject\": \"biology\"}\n",
    "    for i in range(len(vectors))\n",
    "]\n",
    "\n",
    "client.insert(collection_name=\"demo_shcema_collection\", data=data)\n",
    "\n",
    "res = client.search(\n",
    "    collection_name=\"demo_shcema_collection\",\n",
    "    data=embedding_fn.encode_queries([\"tell me AI related information\"]),\n",
    "    filter=\"subject == 'biology'\",\n",
    "    limit=2,\n",
    "    output_fields=[\"text\", \"subject\"],\n",
    ")\n",
    "\n",
    "print(res)"
   ]
  },
  {
   "cell_type": "code",
   "execution_count": 7,
   "id": "3a27e201",
   "metadata": {},
   "outputs": [
    {
     "name": "stdout",
     "output_type": "stream",
     "text": [
      "data: [], extra_info: {}\n"
     ]
    }
   ],
   "source": [
    "res = client.query(\n",
    "    collection_name=\"demo_shcema_collection\",\n",
    "    filter=\"subject == 'history'\",\n",
    "    output_fields=[\"text\", \"subject\"],\n",
    ")\n",
    "\n",
    "print(res)"
   ]
  }
 ],
 "metadata": {
  "kernelspec": {
   "display_name": ".venv",
   "language": "python",
   "name": "python3"
  },
  "language_info": {
   "codemirror_mode": {
    "name": "ipython",
    "version": 3
   },
   "file_extension": ".py",
   "mimetype": "text/x-python",
   "name": "python",
   "nbconvert_exporter": "python",
   "pygments_lexer": "ipython3",
   "version": "3.13.7"
  }
 },
 "nbformat": 4,
 "nbformat_minor": 5
}
